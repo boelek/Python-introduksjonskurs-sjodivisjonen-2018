{
 "cells": [
  {
   "cell_type": "markdown",
   "metadata": {},
   "source": [
    "## Search directories"
   ]
  },
  {
   "cell_type": "markdown",
   "metadata": {},
   "source": [
    "### import module..."
   ]
  },
  {
   "cell_type": "code",
   "execution_count": null,
   "metadata": {},
   "outputs": [],
   "source": [
    "import os"
   ]
  },
  {
   "cell_type": "markdown",
   "metadata": {},
   "source": [
    "### how to find documentation: the standard library..."
   ]
  },
  {
   "cell_type": "markdown",
   "metadata": {},
   "source": [
    "https://www.python.org is your friend... \n",
    "https://docs.python.org/3 is where you find the answers...\n",
    "https://docs.python.org/3/library/os.html for our module..."
   ]
  },
  {
   "cell_type": "markdown",
   "metadata": {},
   "source": [
    "### so lets play with the os module..."
   ]
  },
  {
   "cell_type": "code",
   "execution_count": null,
   "metadata": {},
   "outputs": [],
   "source": [
    "# Set the directory you want to start from\n",
    "root_dir = 'D:\\\\DTM 25 Sjo\\\\'\n",
    "\n",
    "for dir_name, subdir_list, file_list in os.walk(root_dir):\n",
    "    print('Found directory: %s' % dir_name)   # note the formating in the print statement....\n",
    "    for file in file_list:\n",
    "        print('\\t%s' % file) \n",
    "    print ('Total nuber of files in directory: %i' % len(file_list))"
   ]
  },
  {
   "cell_type": "markdown",
   "metadata": {},
   "source": [
    "### find all empty directories..."
   ]
  },
  {
   "cell_type": "code",
   "execution_count": null,
   "metadata": {},
   "outputs": [],
   "source": [
    "# Set the directory you want to start from\n",
    "root_dir = 'D:\\\\DTM 25 Sjo\\\\'\n",
    "\n",
    "for dir_name, subdir_list, file_list in os.walk(root_dir):\n",
    "    \n",
    "    if (not len(file_list)): # if directory contains no files\n",
    "        print('\\t%s has no files and subdirectories...' % dir_name) "
   ]
  },
  {
   "cell_type": "markdown",
   "metadata": {},
   "source": [
    "### find all the files with extention..."
   ]
  },
  {
   "cell_type": "code",
   "execution_count": null,
   "metadata": {},
   "outputs": [],
   "source": [
    "# Set the directory you want to start from\n",
    "root_dir = 'D:\\\\DTM 25 Sjo\\\\'\n",
    "\n",
    "for dir_name, subdir_list, file_list in os.walk(root_dir):\n",
    "    # print('Found directory: %s' % dir_name)\n",
    "    for file in file_list:\n",
    "        if file.endswith('.xyz'):\n",
    "            print('\\t%s' % file) "
   ]
  },
  {
   "cell_type": "markdown",
   "metadata": {},
   "source": [
    "### copy all files wich contains a substring to new directory"
   ]
  },
  {
   "cell_type": "code",
   "execution_count": null,
   "metadata": {},
   "outputs": [],
   "source": [
    "# Set the directory you want to start from\n",
    "root_dir = 'D:\\\\DTM 25 Sjo\\\\'\n",
    "dest_dir = 'D\\\\temp\\\\'\n",
    "sub_string = 'outside'\n",
    "\n",
    "for dir_name, subdir_list, file_list in os.walk(root_dir):\n",
    "    # print('Found directory: %s' % dir_name)\n",
    "    for file in file_list:\n",
    "        if sub_string in file:\n",
    "            command = 'copy '+ dir_name + file + ' ' + dest_dir + file\n",
    "            print(command)\n",
    "            # os.system(command)"
   ]
  }
 ],
 "metadata": {
  "kernelspec": {
   "display_name": "Python 3",
   "language": "python",
   "name": "python3"
  },
  "language_info": {
   "codemirror_mode": {
    "name": "ipython",
    "version": 3
   },
   "file_extension": ".py",
   "mimetype": "text/x-python",
   "name": "python",
   "nbconvert_exporter": "python",
   "pygments_lexer": "ipython3",
   "version": "3.6.1"
  }
 },
 "nbformat": 4,
 "nbformat_minor": 2
}
